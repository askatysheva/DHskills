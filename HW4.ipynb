{
 "cells": [
  {
   "cell_type": "markdown",
   "metadata": {},
   "source": [
    "# Домашнее задание №4"
   ]
  },
  {
   "cell_type": "code",
   "execution_count": null,
   "metadata": {},
   "outputs": [
    {
     "name": "stdout",
     "output_type": "stream",
     "text": [
      "showing info https://raw.githubusercontent.com/nltk/nltk_data/gh-pages/index.xml\n"
     ]
    }
   ],
   "source": [
    "#Прелюдия. Скачиваю нужные данные.\n",
    "\n",
    "import nltk\n",
    "nltk.download()"
   ]
  },
  {
   "cell_type": "markdown",
   "metadata": {},
   "source": [
    "## Задание №1"
   ]
  },
  {
   "cell_type": "markdown",
   "metadata": {},
   "source": [
    "#### 1. Скачайте из папки с домашними заданиями английский текст первой книги о Гарри Поттере. Он должен быть сохранен отдельным файлом.\n",
    "#### 2. (1)Очистите текст от пунктуации, (2)приведите его к нижнему регистру, (3)лемматизируйте и (4)запишите в новый файл."
   ]
  },
  {
   "cell_type": "code",
   "execution_count": 3,
   "metadata": {},
   "outputs": [
    {
     "data": {
      "text/plain": [
       "['CHAPTER', 'ONE', 'THE', 'BOY', 'WHO', 'LIVED', 'Mr', 'and', 'Mrs', 'Dursley']"
      ]
     },
     "execution_count": 3,
     "metadata": {},
     "output_type": "execute_result"
    }
   ],
   "source": [
    "#Скачан английский текст первой книги о Гарри Поттере.\n",
    "\n",
    "import os, re\n",
    "\n",
    "with open(\"Harry_Potter_and_the_Sorcerers_Stone.txt\", \"r\", encoding=\"utf-8\") as i: #Открываю файлы для чтения\n",
    "        harry = i.read()                                                           #Читаем файлы\n",
    "        \n",
    "#(1)\n",
    "harry_new = [w.strip(\"’!\\\"#$%&'()*+,./:;<=>?@[\\]^_`{|}~„“”«»*—/\\-”.!,?—?,\") for w in harry.split()] #Убираю пунктуацию «вручную», потому что в тексте есть кавычки-«елочки», которых нет в punctuation\n",
    "harry_new = [k for k in harry_new if len(k) != 0]                                                  #Удаляю пустые элементы \n",
    "\n",
    "harry_new[:10] #Проверка раз"
   ]
  },
  {
   "cell_type": "code",
   "execution_count": 4,
   "metadata": {},
   "outputs": [
    {
     "data": {
      "text/plain": [
       "'chapter one'"
      ]
     },
     "execution_count": 4,
     "metadata": {},
     "output_type": "execute_result"
    }
   ],
   "source": [
    "#(2)\n",
    "harry_new = \" \".join(harry_new).lower() #Привожу текст к нижнему регистру\n",
    "harry_new[:11]                          #Проверка два"
   ]
  },
  {
   "cell_type": "code",
   "execution_count": 5,
   "metadata": {},
   "outputs": [],
   "source": [
    "#(3) \n",
    "from nltk.tokenize import word_tokenize\n",
    "harry_new2 = word_tokenize(harry_new)   #Разбиваю на слова токенизатором из NLTK"
   ]
  },
  {
   "cell_type": "code",
   "execution_count": 6,
   "metadata": {},
   "outputs": [
    {
     "data": {
      "text/plain": [
       "\"chapter one the boy who lived mr and mrs dursley of number four privet drive were proud to say that they were perfectly normal thank you very much they were the last people you 'd expect to be involve\""
      ]
     },
     "execution_count": 6,
     "metadata": {},
     "output_type": "execute_result"
    }
   ],
   "source": [
    "#(3)продолжение\n",
    "from nltk import WordNetLemmatizer\n",
    "wnl = WordNetLemmatizer()\n",
    "\n",
    "harrylem = wnl.lemmatize(\" \".join(harry_new2)) #Лемматизирую\n",
    "harrylem[:200]                                 #Проверка три"
   ]
  },
  {
   "cell_type": "code",
   "execution_count": 7,
   "metadata": {},
   "outputs": [],
   "source": [
    "#(4)\n",
    "with open(\"harry_upd.txt\", \"a+\", encoding=\"utf-8\") as k:  #Создаю новый файл и открываю его для добавления и чтения\n",
    "    k.write(harrylem)                                     #Записываю лемматизированный текст в новый файл"
   ]
  },
  {
   "cell_type": "markdown",
   "metadata": {},
   "source": [
    "#### 2. (5)Проверьте, выполняется ли здесь закон Ципфа. Для этого постройте линейную диаграмму, где по оси Х будет ранг (порядковый номер) слова в отсортированном по убыванию частотном словаре, а по оси Y - относительная частота (абсолютная частота, разделенная на количество слов в тексте). Т.е. у самого частотного слова будет ранг 1, у второго по частоте — 2 и т.д."
   ]
  },
  {
   "cell_type": "code",
   "execution_count": 73,
   "metadata": {},
   "outputs": [],
   "source": [
    "#Сейчас я буду проверять закон Ципфа. Для этого я сначала...\n",
    "\n",
    "#Удалю стоп-слова (потому что зачем их учитывать. в данном случае, полагаю, это не то чтобы критично, но почему бы их не удалить)\n",
    "from nltk.corpus import stopwords                                     #Перед этим скачиваю пакет stopwords \n",
    "stop = stopwords.words(\"english\")                                     #Стоп-слова должны быть для английского языка\n",
    "harry_nostwr = [w for w in word_tokenize(harrylem) if w not in stop]  #В новый список все, кроме стоп-слов\n",
    "harry_str = \" \".join(harry_nostwr)                                    #Объединяю в строку\n",
    "\n",
    "#Сначала считаю абсолютную частоту\n",
    "from collections import Counter\n",
    "harry_fr = {}                           #Создаю словарь, где все это будет храниться\n",
    "counts = Counter(harry_nostwr)         #Отсортированный по частотности список\n",
    "\n",
    "for k, v in counts.items():             #Абсолютная частота\n",
    "    harry_fr[k] = v\n",
    "\n",
    "#Теперь относительную\n",
    "dlina = len(harry_str.split())          #Считаю длину текста\n",
    "for w, zn in harry_fr.items():          #Достаю пары ключей и значений\n",
    "    otn_fr = zn/dlina                   #Делю значения на количество слов, получается относительная частота"
   ]
  },
  {
   "cell_type": "code",
   "execution_count": 37,
   "metadata": {},
   "outputs": [],
   "source": [
    "#Теперь закон Ципфа\n",
    "\n",
    "import matplotlib\n",
    "import matplotlib.pyplot as plt"
   ]
  },
  {
   "cell_type": "code",
   "execution_count": 75,
   "metadata": {},
   "outputs": [
    {
     "data": {
      "image/png": "[encoded data removed]",
      "text/plain": [
       "<Figure size 432x288 with 1 Axes>"
      ]
     },
     "metadata": {
      "needs_background": "light"
     },
     "output_type": "display_data"
    }
   ],
   "source": [
    "x = range(40)\n",
    "y = []              #Создаю список\n",
    "\n",
    "harry_sort = sorted(harry_fr.items(), key=lambda x: x[1], reverse=True) #Сортирую по частоте с лямбдой\n",
    "for word in harry_sort:\n",
    "    otn_fr = word[1]\n",
    "    y.append(otn_fr)                                                    #Засовываю в список оотносительную частоту\n",
    "    \n",
    "plt.plot(x, y[:40], c=\"plum\")                                           #Это у меня с 50 на 50 не работало, а с 40 на 40 работает\n",
    "plt.title(\"Гарри Поттер и закон Ципфа\")\n",
    "plt.xlabel(\"Порядковый номер слова\")\n",
    "plt.ylabel(\"Относительная частота\")\n",
    "plt.show()\n",
    "\n",
    "\n",
    "#щас сдохну"
   ]
  },
  {
   "cell_type": "markdown",
   "metadata": {},
   "source": [
    "#### 3. (1)Очистите текст от стоп-слов. (2)Постройте barplot для 30 самых частотных слов. Эти слова должны быть по оси Х в виде подписей к делениям. Значениями по этой оси будет ряд чисел от 0 до 30."
   ]
  },
  {
   "cell_type": "code",
   "execution_count": 82,
   "metadata": {},
   "outputs": [
    {
     "data": {
      "image/png": "[encoded data removed]",
      "text/plain": [
       "<Figure size 432x288 with 1 Axes>"
      ]
     },
     "metadata": {
      "needs_background": "light"
     },
     "output_type": "display_data"
    }
   ],
   "source": [
    "#3(1)Я очень умная и зачем-то это уже сделала ¯\\_(ツ)_/¯\n",
    "\n",
    "#(2)\n",
    "x = range(30)\n",
    "y = [w[1] for w in harry_sort]    #Здесь я вытаскиваю число\n",
    "z = [w[0] for w in harry_sort]    #А здесь я вытаскиваю слова\n",
    "\n",
    "plt.bar(x, y[:30])\n",
    "plt.title(\"Гарри Поттер и 30 самых частотных слов\")\n",
    "plt.xticks(x, z[:30], rotation=60)     #А здесь я пишу, че где и делаю диагональный наклон слов.\n",
    "plt.ylabel(\"Число упоминаний\")\n",
    "plt.xlabel(\"Самые частотные слова\")\n",
    "plt.show()"
   ]
  }
 ],
 "metadata": {
  "kernelspec": {
   "display_name": "Python 3",
   "language": "python",
   "name": "python3"
  }
 },
 "nbformat": 4,
 "nbformat_minor": 2
}
